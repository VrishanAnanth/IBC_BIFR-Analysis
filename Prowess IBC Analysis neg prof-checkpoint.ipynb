{
 "cells": [
  {
   "cell_type": "code",
   "execution_count": 1,
   "id": "b45a3869",
   "metadata": {},
   "outputs": [],
   "source": [
    "import pandas as pd\n",
    "import seaborn as sns\n",
    "import numpy as np\n",
    "\n",
    "all_data= pd.read_excel('merged_cin_financial_data.xlsx')\n",
    "industry_avg=pd.read_excel('industry_avg.xlsx')\n",
    "ibc= pd.read_excel('cin.data.xlsm', sheet_name='IBC w CIN')\n",
    "bifr=pd.read_excel('cin.data.xlsm', sheet_name='BIFR w CIN')"
   ]
  },
  {
   "cell_type": "code",
   "execution_count": 2,
   "id": "78225060",
   "metadata": {},
   "outputs": [],
   "source": [
    "bifr = bifr[~bifr['CIN'].isna()]\n",
    "# DATE == RESOLUTION YEAR\n",
    "bifr_data = bifr.merge(all_data,left_on='CIN', right_on='cin_code')\n",
    "## 238/628 match\n",
    "\n",
    "final_bifr_data = bifr_data.merge(industry_avg,on=['co_industry_name','year'])\n",
    "final_bifr_data['adjusted_prof_growth']=final_bifr_data['profit_growth']-final_bifr_data['avg_profit_growth']\n",
    "\n"
   ]
  },
  {
   "cell_type": "code",
   "execution_count": 3,
   "id": "53354e97",
   "metadata": {},
   "outputs": [],
   "source": [
    "## 165/363\n",
    "ibc_data=ibc.merge(all_data, left_on='CIN',right_on='cin_code')\n",
    "\n",
    "final_ibc_data= ibc_data.merge(industry_avg,on=['co_industry_name','year'])\n",
    "final_ibc_data['adjusted_prof_growth']=final_ibc_data['profit_growth']-final_ibc_data['avg_profit_growth']\n",
    "\n",
    "res_year=[]\n",
    "for i in (final_ibc_data['Order Date']):\n",
    "    res_year.append(i.year)\n",
    "    \n",
    "final_ibc_data['Resolution Year']=res_year\n",
    "\n"
   ]
  },
  {
   "cell_type": "code",
   "execution_count": 4,
   "id": "10bba37a",
   "metadata": {},
   "outputs": [],
   "source": [
    "final_ibc_data = final_ibc_data[final_ibc_data.profit_growth !=0]\n",
    "final_bifr_data = final_bifr_data[final_bifr_data.profit_growth != 0]\n",
    "final_ibc_data =final_ibc_data.dropna(subset=['profit_growth'])\n",
    "final_bifr_data=final_bifr_data.dropna(subset=['profit_growth'])"
   ]
  },
  {
   "cell_type": "code",
   "execution_count": 26,
   "id": "182ed33e",
   "metadata": {},
   "outputs": [
    {
     "name": "stdout",
     "output_type": "stream",
     "text": [
      "['A INFRASTRUCTURE LIMITED' 'LLOYD ROCKFIBRES LIMITED'\n",
      " 'A.R.PKG. SYSTEM LIMITED' 'KANPUR PLASTIC PACK' 'BECCO ENGG.'\n",
      " 'AAMCOL TOOLS LIMITED' 'HMT MACHINE TOOLS LIMITED' 'ACC BABCOCK LIMITED'\n",
      " 'CEMENT CORPORATION OF INDIA' 'SAURASHTRA CEMENT LIMITED'\n",
      " 'SHREE VISHNU CEMENTS' 'P.R. CEMENTS LIMITED'\n",
      " 'SOUTH INDIA CEMENTS LIMITED' 'J K UDAIPUR UDYOG LIMITED'\n",
      " 'LEMOS CEMENT LIMITED' 'AMAL LIMITED' 'CITURGIA BIOCHEMICALS LIMITED'\n",
      " 'ADITYA CHEMICALS LIMITED' 'AGARPARA JUTE MILLS LIMITED'\n",
      " 'DUROPACK LIMITED' 'HEMANT PLASTICS & CHEMICALS LIMITED'\n",
      " 'AGRO CHEM PUNJAB LIMITED' 'SHRINIWAS FERTILIZERS LIMITED'\n",
      " 'MANGALORE CHEMICALS AND FERTILIZERS LIMITED' 'CAPSUGEL INDIA'\n",
      " 'GUJARAT LYKA ORGANICS LIMITED' 'GUJARAT THEMIS BIOSYN LIMITED'\n",
      " 'HINDUSTAN ANTIBIOTICS LIMITED' 'KONAR ORGANICS LIMITED'\n",
      " 'AHLON PARENTERALS (I) LIMITED' 'INNOTECH PHARMA LIMITED'\n",
      " 'GOA ANTIBIOTICS & PHARMACEUTICALS LIMITED' 'ARANDY LABORATORIES LIMITED'\n",
      " 'INDIAN CHEMPHAR LIMITED' 'AIR CONDITIONING CORPORATION LIMITED'\n",
      " 'EASUN REYROLLE RELAYS & DEVICES LIMITED' 'INSTRUMENTATION LIMITED'\n",
      " 'MELTRON SEMI CONDUCTORS LIMITED' 'GREAVES SEMI CONDUCTORS LIMITED'\n",
      " 'KORON BUSINESS SYSTEMS LIMITED'\n",
      " 'KERALA STATE ELECTRONIC DEV. CORP. LIMITED'\n",
      " 'SULAKSHANA CIRCUITS LIMITED' 'KELTRON ELECTRO CERAMIC'\n",
      " 'CAREWEL MEDI PRODUCTS LIMITED' 'MOHAN FIBRE PRODUCTS LIMITED'\n",
      " 'AJANTA PAPER MILLS LIMITED' 'CORAL NEWSPRINTS' 'GULMOHAR PAPER LIMITED'\n",
      " 'INDIA JUTE & INDS.' 'AJAY PAPER MILLS LIMITED'\n",
      " 'PASUPATI ACRYLON LIMITED' 'ARORA FIBRES LIMITED' 'BICCO LAWRIE'\n",
      " 'MAJESTIC AUTO LIMITED' 'AK STRUCTURAL FOAM LIMITED'\n",
      " 'ALMORA MANGESTIE LIMITED' 'DANDELI STEEL AND ERRO ALLOYS LIMITED'\n",
      " 'ALUMUNIUM INDUSTRIES' 'CALCOM VISION LIMITED'\n",
      " 'C.T.R.MANUFACTURING INDUSTRIES LIMITED' 'DATAR SWITCHGER LIMITED'\n",
      " 'HACKBRIDGE HEWITTIC & EASUN LIMITED'\n",
      " 'KERALA ELECTRICAL & ALLIED ENGG. CO. LIMITED' 'CARBON & CHEMICALS'\n",
      " 'KERALA MINERALS & METALS LIMITED' 'AMINES & PLASTICIZERS LIMITED'\n",
      " 'AUTOMOBILE PRODUCTS OF INDIA LIMITED' 'BHORUKA ALUMINIUM'\n",
      " 'CHEMO-PHARMA LABS LIMITED' 'KANOI PAPER & INDUSTRIES LIMITED'\n",
      " 'KINGS CHEMICALS AND DISTILLERIES LIMITED' 'NEYCER INDIA LIMITED'\n",
      " 'TAMILNADU TELECOMMUNICATIONS LIMITED' 'AMITABH BACHCHAN CORPN. LIMITED'\n",
      " 'GUJARAT MULCO ELECTRONICS LIMITED' 'ITEL INDUSTRIES LIMITED'\n",
      " 'NOVA DYEING AND PRINTING MILLS LIMITED' 'BIRAL YAMAHA LIMITED'\n",
      " 'GRAND FOUNDRY LIMITED' 'GUJARAT POLY AUX ELECTRONICS LIMITED'\n",
      " 'KEDIA VANASPATI LIMITED' 'KHATAU MAKANJI SPG.& WVG.'\n",
      " 'KOTHARI GLOBAL LIMITED' 'KUMAR WIRE CLOTH MFNG. CO. LIMITED'\n",
      " 'ASIA FAB LIMITED' 'BIRDS JUTE AND EXPORTS LIMITED' 'SIMCO ENGG. LIMITED'\n",
      " 'AMRIT BANASPATI CO. LIMITED' 'EARNEST HEALTHCARE LIMITED'\n",
      " 'ECHON INDUSTRIES LIMITED' 'INDUS STEELS & ALLOYS PRIVATE LIMITED'\n",
      " 'INDUSTRIAL DIAMOND INDIA LIMITED' 'K.C.A.LIMITED'\n",
      " 'J.K. COTTON SPG.& WVG. MILLS' 'MYSORE STONEWARE PIPES'\n",
      " 'SREE SARASWATHI MILLS LIMITED' 'ANDHRA PRADESH RAYONS LIMITED'\n",
      " 'ASIATIC OXYGEN' 'KAMLA MILLS' 'NAVEEN PROJECTS LIMITED'\n",
      " 'ANUPAM PRODUCTS LIMITED' 'ARLEM BREWERIES LIMITED'\n",
      " 'HARYANA BREWERIES LIMITED' 'INERTIA INDUSTRIES LIMITED'\n",
      " 'BLOSSOM INDUSTIRES LIMITED' 'DOBURG LAGER BREWERY' 'RANGAR BREWERIES'\n",
      " 'BROACH TEXTILE MILLS' 'KALAMESHWAR TEXTILE MILLS LIMITED'\n",
      " 'ARUN PROCESSORS LIMITED' 'FLORA TEXTILES LIMITED'\n",
      " 'AUTOMOTIVE COACHES & COMPONENTS LIIMITED' 'CLUTCH AUTO LIMITED'\n",
      " 'GHATGE PATIL INDUS.LIMITED' 'GUJARAT SITCO CLUTCH'\n",
      " 'HARIG CRANKSHAFTS LIMITED' 'INTERNATIONAL INSTRUMENTS'\n",
      " 'ISPL INDUSTRIES LIMITED' 'AUTO PINS (INDIA) LIMITED'\n",
      " 'RANBRO BRAKES INDIA LIMITED' 'T.T.K.TEXTILES LIMITED'\n",
      " 'EASTERN TELCOM & TECH. LIMITED' 'EASWARAM & SONS ENGINEERS LIMITED'\n",
      " 'AVANTI LEATHERS LIMITED' 'CHROME LEATHERS CO.' 'B.C.L. FORGINGS LIMITED'\n",
      " 'SHIVAJI WORKS LIMITED' 'LAMINA FOUNDRIES'\n",
      " 'KUMAR MALLEABLES PRIVATE LIMITED' 'DATRE CORPORATION LIMITED'\n",
      " 'B.J. DUPLEX BOARDS LIMITED' 'JOTINDRA STEEL & TUBES LIMITED'\n",
      " 'BALAJI BIO TECH LIMITED' 'BHAVAL SYNTHETICS (I) LIMITED' 'FANCY CORPN.'\n",
      " 'JYOTI LIMITED' 'KIRLOSKAR POWER EQUIPMENTS LIMITED'\n",
      " 'DAVE PAINTS LIMITED' 'SHAKTI TUBES AND INDUSTRIES LIMITED'\n",
      " 'KATHAYEE COTTON MILLS' 'BALASORE ALLOYS LIMITED' 'C.J.GELATINE PRODUCTS'\n",
      " 'GANSONS LIMITED' 'INDO GULF INDUSTRIES LIMITED'\n",
      " 'BENGAL CHEMICALS & PHARMACEUTICALS LIMITED'\n",
      " 'TAMILNADU INDUSTRIAL EXPLOSIVE LIMITED' 'GODAVARI SUGAR MILLS'\n",
      " 'BHARAT COKING COAL LIMITED' 'RASSI REFRACTORIES'\n",
      " 'BHARAT REFERACTORIES LIMITED' 'DUMRAON TEXTILE MILLS'\n",
      " 'HADA TEXTILE INDUSTRIES LIMITED'\n",
      " 'LAKSHANA COTTON SPINNING MILLS LIMITED' 'BHAVANI MILLS'\n",
      " 'DODBALIAPUR SPINNING MILLS PRIVATE LIMITED'\n",
      " 'KUMAR POLYCOT MILLS LIMITED' 'NTC (DPR) LIMITED'\n",
      " 'NTC (MAHARASHTRA NORTH) LIMITED' 'NTC (MP)'\n",
      " 'NTC (SOUTH MAHARASHTRA) LIMITED' 'NTC (UP) LIMITED' 'NTC (WB A B & O)'\n",
      " 'DEVAGIRI TEXTILE MILLS LIMITED' 'STARLITE COMPONENTS LIMITED'\n",
      " 'EASTERN SYNPACKS LIMITED' 'CLEAN FOOD' 'BIHAR SPONGE IRON LIMITED'\n",
      " 'BOMBAY CO. LIMITED' 'COVENTRY COIL-O-MATIC (HARYANA) LIMITED'\n",
      " 'JAY CYLINDERS' 'BRITISH INDIA CORPN. LIMITED'\n",
      " 'BIRLA TRANSASIA CARPETS LIMITED' 'HOWRAH MILLS' 'KAMARHATTI CO. LIMITED'\n",
      " 'NAIHATI JUTE' 'NEW CENTRAL JUTE MILLS' 'KAREEMS SPUN SILK LIMITED'\n",
      " 'KANNKARRAH CO. LIMITED' 'FIBERWEB (INDIA) LIMITED'\n",
      " 'DAVANGERE COTTON MILLS' 'DIAMOND TEXTILE MILLS'\n",
      " 'BUDGE BUDGE REFINERIES LIMITED' 'KANCHAN OIL INDS.LIMITED'\n",
      " 'SHETKARI SOLVENT(INDIA) LIMITED' 'K.R. FOODS LIMITED'\n",
      " 'CAUVERY SUGARS AND CHEMICALS LIMITED' 'KIRLAMPUDI SUGAR MILLS'\n",
      " 'SREE KAILAS SUGARS & CHEMICALS LIMITED' 'GAYATRI SUGAR COMPLEX LIMITED'\n",
      " 'CERAMICS (INDIA) LIMITED' 'RESTILE CERAMICS LIMITED'\n",
      " 'INDORE STEEL & IRON MILLS LIMITED' 'COROMANDEL STEEL'\n",
      " 'SHIMOGA STEELS LIMITED' 'NAVA KARNATAKA STEEL'\n",
      " 'SHREE YOGI STEEL PRIVATE LIMITED' 'COSBOARD INDUSTRIES LIMITED'\n",
      " 'DGP WINDSOR INDIA LIMITED' 'DUNCANS INDUSTRIES LIMITED'\n",
      " 'ESTER INDUSTRIES LIMITED' 'POLOLIGHT INDUSTRIES LIMITED'\n",
      " 'GALADA CONTINUOUS CASTINGS' 'SHERVANI SUGAR SYNDICATE LIMITED'\n",
      " 'GEE GRANITES LIMITED' 'GLITTEK GRANITES LIMITED'\n",
      " 'GEMINI STEEL TUBES LIMITED' 'GOA ELECTRICAL AND FANS LIMITED'\n",
      " 'GUJARAT BOROSIL LIMITED' 'GUJARAT GUARDIAN LIMITED' 'HIND LAMPS LIMITED'\n",
      " 'GOBIND GLASS AND INDUSTRIES LIMITED' 'GOPAL GLASS WORKS'\n",
      " 'GRAMOPHONE CO. (INDIA) LIMITED' 'JAISHREE CHEMICALS'\n",
      " 'MALANPUR STEEL LIMITED' 'HICKSON AND DADAJEE LIMITED'\n",
      " 'HINDUSTAN FLUROCARBONS LIMITED' 'HOMELAND SPECILAITY OILS LIMITED'\n",
      " 'INDIAN FOILS LIMITED' 'LIGHT METAL INDUSTRIES LIMITED'\n",
      " 'VADILAL DAIRY INTERNATIONAL LIMITED' 'INDODAN INDUSTRIES LIMITED'\n",
      " 'IPITATA SPONGE' 'JAIMURUGAN TEXTILES LIMITED' 'K.G. GLUCO BIOLS LIMITED'\n",
      " 'KARNATAKA SILK INDUSTRIES CORPN. LIMITED'\n",
      " 'KAYAM FOODS INDUSTRIES PRIVATE LIMITED' 'KERALA AUTOMOBILES LIMITED'\n",
      " 'KERALA ELECTRIC LAMP WORKS LIMITED' 'KINGS INTERNATIOANL LIMITED'\n",
      " 'KRYPTON INDUSTRIES LIMITED' 'L.D.TEXTILES' 'MAHINDRA NISSAN ALLWYN'\n",
      " 'SILVIA APPAREL LIMITED' 'PREMIER SYNTHETICS LIMITED'\n",
      " 'RAJASTHAN POLYMERS & RESINS LIMITED' 'RICO AGROILS LIMITED'\n",
      " 'RIVERDALE FOODS LIMITED' 'UNIQUE SUGARS']\n",
      "239\n"
     ]
    }
   ],
   "source": [
    "ibc_4years = final_ibc_data[['CIN','Name','co_industry_name','Resolution Year','year','profit_growth','sa_pat','avg_profit_growth','adjusted_prof_growth']]\n",
    "bifr_4years =final_bifr_data[['CIN','Name','co_industry_name','Date','year','profit_growth','sa_pat','avg_profit_growth','adjusted_prof_growth']]\n",
    "print(bifr_4years['Name'].unique())\n",
    "print(len(bifr_4years['Name'].unique()))\n"
   ]
  },
  {
   "cell_type": "code",
   "execution_count": 27,
   "id": "f8c0701d",
   "metadata": {
    "scrolled": true
   },
   "outputs": [],
   "source": [
    "bifr_4years=bifr_4years.drop_duplicates()\n",
    "names = bifr_4years['Name'].unique()\n",
    "\n",
    "comp=bifr_4years[bifr_4years['Name']=='KANPUR PLASTIC PACK']\n",
    "res_year=(comp['Date'].unique()[0])\n",
    "graph=comp[comp['year'].isin([res_year-2,res_year+2,res_year-1,res_year+1])]"
   ]
  },
  {
   "cell_type": "code",
   "execution_count": 28,
   "id": "a5a20805",
   "metadata": {},
   "outputs": [],
   "source": [
    "not_enough_data=[]\n",
    "for name in names:\n",
    "    comp = bifr_4years[bifr_4years['Name']==name]\n",
    "    res_year=(comp['Date'].unique()[0])\n",
    "    graph1=comp[comp['year'].isin([res_year-2,res_year+2,res_year-1,res_year+1])]\n",
    "    if (len(graph1)) == 2:\n",
    "        graph=graph.append(graph1)\n",
    "    else:\n",
    "        not_enough_data.append(name)\n",
    "## 141/242\n"
   ]
  },
  {
   "cell_type": "code",
   "execution_count": 29,
   "id": "1bf9456f",
   "metadata": {},
   "outputs": [],
   "source": [
    "ibc_4years = ibc_4years.drop_duplicates()\n",
    "names_ibc=ibc_4years['Name'].drop_duplicates()\n",
    "\n",
    "\n",
    "comp_1 = ibc_4years[ibc_4years['Name']=='Ruchi Soya Industries Limited']\n",
    "res_year=(comp_1['Resolution Year'].unique()[0])\n",
    "\n",
    "plot=comp_1[comp_1['year'].isin([res_year-1,res_year+1])]\n"
   ]
  },
  {
   "cell_type": "code",
   "execution_count": 30,
   "id": "2084e95f",
   "metadata": {},
   "outputs": [],
   "source": [
    "not_enough_data_ibc=[]\n",
    "\n",
    "for name in names_ibc:\n",
    "    \n",
    "    comp_1 = ibc_4years[ibc_4years['Name']==name]\n",
    "    res_year=(comp_1['Resolution Year'].unique()[0])\n",
    "    plot_1=comp_1[comp_1['year'].isin([res_year-1,res_year+1])]\n",
    "    if len(plot_1)==4:\n",
    "        plot=plot.append(plot_1)\n",
    "    else:\n",
    "        not_enough_data_ibc.append(name)\n"
   ]
  },
  {
   "cell_type": "code",
   "execution_count": 31,
   "id": "1ce4bf03",
   "metadata": {},
   "outputs": [
    {
     "name": "stdout",
     "output_type": "stream",
     "text": [
      "-0.12034699116761229\n",
      "36.047682245907694\n"
     ]
    }
   ],
   "source": [
    "graph['year_diff']=graph['Date']-graph['year']\n",
    "avg_1= graph[graph['year_diff']==-1]\n",
    "avg1= graph[graph['year_diff']==1]\n",
    "\n",
    "print(avg_1['adjusted_prof_growth'].mean())\n",
    "print(avg1['adjusted_prof_growth'].mean())"
   ]
  },
  {
   "cell_type": "code",
   "execution_count": 32,
   "id": "05e0e5f0",
   "metadata": {},
   "outputs": [
    {
     "name": "stdout",
     "output_type": "stream",
     "text": [
      "97.77764423519886\n",
      "-1.2761844574029562\n"
     ]
    }
   ],
   "source": [
    "#print(plot)\n",
    "plot['year_diff']=plot['Resolution Year']-plot['year']\n",
    "avg_ibc_1 = plot[plot['year_diff']==-1]\n",
    "avg_ibc1 = plot[plot['year_diff']==1]\n",
    "print(avg_ibc_1['adjusted_prof_growth'].mean())\n",
    "print(avg_ibc1['adjusted_prof_growth'].mean())"
   ]
  },
  {
   "cell_type": "code",
   "execution_count": 33,
   "id": "fba8be0d",
   "metadata": {},
   "outputs": [],
   "source": [
    "bifr_names=graph['Name'].unique()\n",
    "check_bifr = bifr_4years[bifr_4years['Name'].isin(bifr_names)]\n"
   ]
  },
  {
   "cell_type": "code",
   "execution_count": 24,
   "id": "c914ffb8",
   "metadata": {},
   "outputs": [
    {
     "name": "stdout",
     "output_type": "stream",
     "text": [
      "                        CIN                        Name  \\\n",
      "216   L25209UP1971PLC003444         KANPUR PLASTIC PACK   \n",
      "220   L25209UP1971PLC003444         KANPUR PLASTIC PACK   \n",
      "223   L25209UP1971PLC003444         KANPUR PLASTIC PACK   \n",
      "4111  L25209UP1971PLC003444         KANPUR PLASTIC PACK   \n",
      "18    L25191RJ1980PLC002077    A INFRASTRUCTURE LIMITED   \n",
      "...                     ...                         ...   \n",
      "4128  U50300KL1978SGC002966  KERALA AUTOMOBILES LIMITED   \n",
      "4323  U18109MH1993PLC073381      SILVIA APPAREL LIMITED   \n",
      "4324  U18109MH1993PLC073381      SILVIA APPAREL LIMITED   \n",
      "4332  U15421MH1981PLC025191               UNIQUE SUGARS   \n",
      "4334  U15421MH1981PLC025191               UNIQUE SUGARS   \n",
      "\n",
      "                    co_industry_name  Date  year  profit_growth  \\\n",
      "216          Plastic packaging goods  2000  1998      52.750000   \n",
      "220          Plastic packaging goods  2000  2001       0.448000   \n",
      "223          Plastic packaging goods  2000  2002      -0.464088   \n",
      "4111         Plastic packaging goods  2000  1999      -0.520930   \n",
      "18      Other construction materials  2002  2003      -1.200000   \n",
      "...                              ...   ...   ...            ...   \n",
      "4128            Two & three wheelers  2002  2004      -0.503759   \n",
      "4323  Diversified financial services  2013  2011      -1.750000   \n",
      "4324  Diversified financial services  2013  2012       3.363636   \n",
      "4332                        Starches  1998  1997       1.779528   \n",
      "4334                        Starches  1998  2000       0.035556   \n",
      "\n",
      "      avg_profit_growth  adjusted_prof_growth  \n",
      "216           -4.200081             56.950081  \n",
      "220           -2.720815              3.168815  \n",
      "223            0.604784             -1.068872  \n",
      "4111         -14.983572             14.462642  \n",
      "18             0.613252             -1.813252  \n",
      "...                 ...                   ...  \n",
      "4128           0.029254             -0.533013  \n",
      "4323          -4.300313              2.550313  \n",
      "4324          -2.677939              6.041576  \n",
      "4332          -5.047280              6.826808  \n",
      "4334          -0.227041              0.262596  \n",
      "\n",
      "[74 rows x 8 columns]\n",
      "239\n",
      "204\n"
     ]
    }
   ],
   "source": [
    "print(graph)\n",
    "print(len(names))\n",
    "print(len(not_enough_data))\n",
    "graph.to_excel('bifr_test1.xlsx')"
   ]
  }
 ],
 "metadata": {
  "kernelspec": {
   "display_name": "Python 3",
   "language": "python",
   "name": "python3"
  },
  "language_info": {
   "codemirror_mode": {
    "name": "ipython",
    "version": 3
   },
   "file_extension": ".py",
   "mimetype": "text/x-python",
   "name": "python",
   "nbconvert_exporter": "python",
   "pygments_lexer": "ipython3",
   "version": "3.8.8"
  }
 },
 "nbformat": 4,
 "nbformat_minor": 5
}
